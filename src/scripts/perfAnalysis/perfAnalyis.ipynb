{
 "cells": [
  {
   "cell_type": "markdown",
   "metadata": {},
   "source": [
    "Installations"
   ]
  },
  {
   "cell_type": "code",
   "execution_count": null,
   "metadata": {},
   "outputs": [],
   "source": [
    "%pip install pandas numpy"
   ]
  },
  {
   "cell_type": "markdown",
   "metadata": {},
   "source": [
    "Imports"
   ]
  },
  {
   "cell_type": "code",
   "execution_count": null,
   "metadata": {},
   "outputs": [],
   "source": [
    "import pandas as pd\n",
    "import numpy as np\n",
    "pd.options.display.float_format = '{:.2e}'.format"
   ]
  },
  {
   "cell_type": "markdown",
   "metadata": {},
   "source": [
    "Perf files"
   ]
  },
  {
   "cell_type": "code",
   "execution_count": null,
   "metadata": {},
   "outputs": [],
   "source": [
    "\n",
    "bench_gen_perf_file = \"./data/benchGenPerf.csv\"\n",
    "bench_gen_perf = pd.read_csv(bench_gen_perf_file)\n",
    "\n",
    "llvm_test_suite_perf_file = \"./data/llvmTestSuitePerf.csv\"\n",
    "llvm_test_suite_perf = pd.read_csv(llvm_test_suite_perf_file)\n",
    "\n",
    "spec_2017_perf_file = \"./data/spec2017Perf.csv\"\n",
    "spec_2017_perf = pd.read_csv(spec_2017_perf_file)"
   ]
  },
  {
   "cell_type": "markdown",
   "metadata": {},
   "source": [
    "Perf events"
   ]
  },
  {
   "cell_type": "code",
   "execution_count": null,
   "metadata": {},
   "outputs": [],
   "source": [
    "llvm_spec_intersection = llvm_test_suite_perf.columns.intersection(spec_2017_perf.columns)\n",
    "perf_events = bench_gen_perf.columns.intersection(llvm_spec_intersection)"
   ]
  },
  {
   "cell_type": "markdown",
   "metadata": {},
   "source": [
    "Filtering dataframes"
   ]
  },
  {
   "cell_type": "code",
   "execution_count": null,
   "metadata": {},
   "outputs": [],
   "source": [
    "llvm_test_suite_perf_filtered = llvm_test_suite_perf[perf_events]\n",
    "spec_2017_perf_filtered = spec_2017_perf[perf_events]\n",
    "bench_gen_perf_filtered = bench_gen_perf[perf_events]\n",
    "bench_gen_perf_filtered = bench_gen_perf_filtered.apply(pd.to_numeric, errors='coerce')"
   ]
  },
  {
   "cell_type": "markdown",
   "metadata": {},
   "source": [
    "Centroids"
   ]
  },
  {
   "cell_type": "code",
   "execution_count": null,
   "metadata": {},
   "outputs": [],
   "source": [
    "\n",
    "llvm_test_suite_centroids = llvm_test_suite_perf_filtered.mean()\n",
    "spec_2017_centroids = spec_2017_perf_filtered.mean()\n",
    "bench_gen_centroids = bench_gen_perf_filtered.mean()"
   ]
  },
  {
   "cell_type": "markdown",
   "metadata": {},
   "source": [
    "Distances"
   ]
  },
  {
   "cell_type": "code",
   "execution_count": null,
   "metadata": {},
   "outputs": [],
   "source": [
    "llvm_distances_to_centroid = np.abs(llvm_test_suite_perf_filtered - llvm_test_suite_centroids)\n",
    "llvm_average_distance_to_centroid = llvm_distances_to_centroid.mean()\n",
    "llvm_distances_to_centroid_relative = llvm_distances_to_centroid / llvm_test_suite_centroids\n",
    "llvm_average_distance_to_centroid_relative = llvm_distances_to_centroid_relative.mean()\n",
    "\n",
    "spec_2017_distances_to_centroid = np.abs(spec_2017_perf_filtered - spec_2017_centroids)\n",
    "spec_2017_average_distance_to_centroid = spec_2017_distances_to_centroid.mean()\n",
    "spec_2017_distances_to_centroid_relative = spec_2017_distances_to_centroid / spec_2017_centroids\n",
    "spec_2017_average_distance_to_centroid_relative = spec_2017_distances_to_centroid_relative.mean()\n",
    "\n",
    "bench_gen_distances_to_centroid = np.abs(bench_gen_perf_filtered - bench_gen_centroids)\n",
    "bench_gen_average_distance_to_centroid = bench_gen_distances_to_centroid.mean()\n",
    "bench_gen_distances_to_centroid_relative = bench_gen_distances_to_centroid / bench_gen_centroids\n",
    "bench_gen_average_distance_to_centroid_relative = bench_gen_distances_to_centroid_relative.mean()\n",
    "\n",
    "bench_gen_distances_to_llvm_centroid = np.abs(bench_gen_perf_filtered - llvm_test_suite_centroids)\n",
    "bench_gen_average_distance_to_llvm_centroid = bench_gen_distances_to_llvm_centroid.mean()\n",
    "bench_gen_distances_to_llvm_centroid_relative = bench_gen_distances_to_llvm_centroid / llvm_test_suite_centroids\n",
    "bench_gen_average_distance_to_llvm_centroid_relative = bench_gen_distances_to_llvm_centroid_relative.mean()\n",
    "\n",
    "bench_gen_distances_to_spec_centroid = np.abs(bench_gen_perf_filtered - spec_2017_centroids)\n",
    "bench_gen_average_distance_to_spec_centroid = bench_gen_distances_to_spec_centroid.mean()\n",
    "bench_gen_distances_to_spec_centroid_relative = bench_gen_distances_to_spec_centroid / spec_2017_centroids\n",
    "bench_gen_average_distance_to_spec_centroid_relative = bench_gen_distances_to_spec_centroid_relative.mean()"
   ]
  },
  {
   "cell_type": "markdown",
   "metadata": {},
   "source": [
    "LLVM test suite results"
   ]
  },
  {
   "cell_type": "code",
   "execution_count": null,
   "metadata": {},
   "outputs": [],
   "source": [
    "print(\"LLVM average distance to centroid:\")\n",
    "print(llvm_average_distance_to_centroid)\n",
    "print(\"\\n###################################################################################\\n\")\n",
    "print(\"LLVM average relative distance to centroid:\")\n",
    "print(llvm_average_distance_to_centroid_relative)"
   ]
  },
  {
   "cell_type": "markdown",
   "metadata": {},
   "source": [
    "SPEC 2017 results"
   ]
  },
  {
   "cell_type": "code",
   "execution_count": null,
   "metadata": {},
   "outputs": [],
   "source": [
    "print(\"SPEC 2017 average distance to centroid:\")\n",
    "print(spec_2017_average_distance_to_centroid)\n",
    "print(\"\\n###################################################################################\\n\")\n",
    "print(\"SPEC 2017 average relative distance to centroid:\")\n",
    "print(spec_2017_average_distance_to_centroid_relative)"
   ]
  },
  {
   "cell_type": "markdown",
   "metadata": {},
   "source": [
    "BenchGen results"
   ]
  },
  {
   "cell_type": "code",
   "execution_count": null,
   "metadata": {},
   "outputs": [],
   "source": [
    "print(\"BenchGen average distance to centroid:\")\n",
    "print(bench_gen_average_distance_to_centroid)\n",
    "print(\"\\n###################################################################################\\n\")\n",
    "print(\"BenchGen average relative distance to centroid:\")\n",
    "print(bench_gen_average_distance_to_centroid_relative)"
   ]
  },
  {
   "cell_type": "markdown",
   "metadata": {},
   "source": [
    "BenchGen X LLVM test suite results"
   ]
  },
  {
   "cell_type": "code",
   "execution_count": null,
   "metadata": {},
   "outputs": [],
   "source": [
    "print(\"BenchGen average distance to LLVM centroid:\")\n",
    "print(bench_gen_average_distance_to_llvm_centroid)\n",
    "print(\"\\n###################################################################################\\n\")\n",
    "print(\"BenchGen average relative distance to LLVM centroid:\")\n",
    "print(bench_gen_average_distance_to_llvm_centroid_relative)"
   ]
  },
  {
   "cell_type": "markdown",
   "metadata": {},
   "source": [
    "BenchGen X SPEC 2017 results"
   ]
  },
  {
   "cell_type": "code",
   "execution_count": null,
   "metadata": {},
   "outputs": [],
   "source": [
    "print(\"BenchGen average distance to SPEC 2017 centroid:\")\n",
    "print(bench_gen_average_distance_to_spec_centroid)\n",
    "print(\"\\n###################################################################################\\n\")\n",
    "print(\"BenchGen average relative distance to SPEC 2017 centroid:\")\n",
    "print(bench_gen_average_distance_to_spec_centroid_relative)"
   ]
  },
  {
   "cell_type": "markdown",
   "metadata": {},
   "source": [
    "Generate CSV"
   ]
  },
  {
   "cell_type": "code",
   "execution_count": 59,
   "metadata": {},
   "outputs": [],
   "source": [
    "row0 = pd.Index(perf_events, name=\"Performance Events\")\n",
    "row1 = pd.Index(llvm_average_distance_to_centroid, name=\"LLVM average distance to centroid\")\n",
    "row2 = pd.Index(spec_2017_average_distance_to_centroid, name=\"SPEC 2017 average distance to centroid\")\n",
    "row3 = pd.Index(bench_gen_average_distance_to_centroid, name=\"BenchGen average distance to centroid\")\n",
    "row4 = pd.Index(bench_gen_average_distance_to_llvm_centroid, name=\"BenchGen average distance to LLVM centroid\")\n",
    "row5 = pd.Index(bench_gen_average_distance_to_spec_centroid, name=\"BenchGen average distance to SPEC 2017 centroid\")\n",
    "\n",
    "row6 = pd.Index(llvm_average_distance_to_centroid_relative, name=\"LLVM average relative distance to centroid\")\n",
    "row7 = pd.Index(spec_2017_average_distance_to_centroid_relative, name=\"SPEC 2017 average relative distance to centroid\")\n",
    "row8 = pd.Index(bench_gen_average_distance_to_centroid_relative, name=\"BenchGen average relative distance to centroid\")\n",
    "row9 = pd.Index(bench_gen_average_distance_to_llvm_centroid_relative, name=\"BenchGen average relative distance to LLVM centroid\")\n",
    "row10 = pd.Index(bench_gen_average_distance_to_spec_centroid_relative, name=\"BenchGen average relative distance to SPEC 2017 centroid\")\n",
    "\n",
    "s0 = pd.Series(row0, name=row0.name)\n",
    "s1 = pd.Series(row1, name=row1.name)\n",
    "s2 = pd.Series(row2, name=row2.name)\n",
    "s3 = pd.Series(row3, name=row3.name)\n",
    "s4 = pd.Series(row4, name=row4.name)\n",
    "s5 = pd.Series(row5, name=row5.name)\n",
    "s6 = pd.Series(row6, name=row6.name)\n",
    "s7 = pd.Series(row7, name=row7.name)\n",
    "s8 = pd.Series(row8, name=row8.name)\n",
    "s9 = pd.Series(row9, name=row9.name)\n",
    "s10 = pd.Series(row10, name=row10.name)\n",
    "\n",
    "df = pd.DataFrame({s0.name : s0, s1.name: s1, s2.name: s2, s3.name: s3, s4.name: s4, s5.name: s5, s6.name: s6, s7.name: s7, s8.name: s8, s9.name: s9, s10.name: s10})\n",
    "\n",
    "df = df.transpose()\n",
    "\n",
    "df.to_csv(\"./results/analysisResult.csv\")"
   ]
  }
 ],
 "metadata": {
  "kernelspec": {
   "display_name": "Python 3",
   "language": "python",
   "name": "python3"
  },
  "language_info": {
   "codemirror_mode": {
    "name": "ipython",
    "version": 3
   },
   "file_extension": ".py",
   "mimetype": "text/x-python",
   "name": "python",
   "nbconvert_exporter": "python",
   "pygments_lexer": "ipython3",
   "version": "3.10.12"
  }
 },
 "nbformat": 4,
 "nbformat_minor": 2
}
