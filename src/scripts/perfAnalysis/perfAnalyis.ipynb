{
 "cells": [
  {
   "cell_type": "markdown",
   "metadata": {},
   "source": [
    "Installations"
   ]
  },
  {
   "cell_type": "code",
   "execution_count": null,
   "metadata": {},
   "outputs": [],
   "source": [
    "%pip install pandas numpy"
   ]
  },
  {
   "cell_type": "markdown",
   "metadata": {},
   "source": [
    "Imports"
   ]
  },
  {
   "cell_type": "code",
   "execution_count": null,
   "metadata": {},
   "outputs": [],
   "source": [
    "import subprocess\n",
    "import pandas as pd\n",
    "import numpy as np\n",
    "pd.options.display.float_format = '{:.2e}'.format"
   ]
  },
  {
   "cell_type": "markdown",
   "metadata": {},
   "source": [
    "Getting BenchGen Perf"
   ]
  },
  {
   "cell_type": "code",
   "execution_count": null,
   "metadata": {},
   "outputs": [],
   "source": [
    "iterations = 3\n",
    "examples_folder_path = '../examplesGenerator/'\n",
    "subprocess.run(f\"mkdir {examples_folder_path}results\", shell=True, stderr=subprocess.DEVNULL)\n",
    "subprocess.run(f\"rm {examples_folder_path}results/*\", shell=True)\n",
    "subprocess.run(f\"cd {examples_folder_path} && python3 examplesGenerator.py 1 {iterations}\", shell=True, check=True)\n",
    "\n",
    "perf_record_folder_path = '../perfRecord/'\n",
    "subprocess.run(f\"cd {perf_record_folder_path} && python3 runPerf.py {examples_folder_path}results/ clang++\", shell=True, check=True)\n",
    "subprocess.run(f\"mkdir {perf_record_folder_path}results\", shell=True, stderr=subprocess.DEVNULL)\n",
    "subprocess.run(f\"cp {perf_record_folder_path}results/results.csv ./data/benchGenPerf.csv  \", shell=True, check=True)"
   ]
  },
  {
   "cell_type": "markdown",
   "metadata": {},
   "source": [
    "Perf files"
   ]
  },
  {
   "cell_type": "code",
   "execution_count": null,
   "metadata": {},
   "outputs": [],
   "source": [
    "bench_gen_perf_file = \"./data/benchGenPerf.csv\"\n",
    "bench_gen_perf = pd.read_csv(bench_gen_perf_file)\n",
    "\n",
    "llvm_test_suite_perf_file = \"./data/llvmTestSuitePerf.csv\"\n",
    "llvm_test_suite_perf = pd.read_csv(llvm_test_suite_perf_file)\n",
    "\n",
    "spec_2017_perf_file = \"./data/spec2017Perf.csv\"\n",
    "spec_2017_perf = pd.read_csv(spec_2017_perf_file)"
   ]
  },
  {
   "cell_type": "markdown",
   "metadata": {},
   "source": [
    "Perf events"
   ]
  },
  {
   "cell_type": "code",
   "execution_count": null,
   "metadata": {},
   "outputs": [],
   "source": [
    "llvm_spec_intersection = llvm_test_suite_perf.columns.intersection(spec_2017_perf.columns)\n",
    "perf_events = bench_gen_perf.columns.intersection(llvm_spec_intersection)"
   ]
  },
  {
   "cell_type": "markdown",
   "metadata": {},
   "source": [
    "Filtering dataframes"
   ]
  },
  {
   "cell_type": "code",
   "execution_count": null,
   "metadata": {},
   "outputs": [],
   "source": [
    "llvm_test_suite_perf_filtered = llvm_test_suite_perf[perf_events]\n",
    "spec_2017_perf_filtered = spec_2017_perf[perf_events]\n",
    "bench_gen_perf_filtered = bench_gen_perf[perf_events]\n",
    "bench_gen_perf_filtered = bench_gen_perf_filtered.apply(pd.to_numeric, errors='coerce')"
   ]
  },
  {
   "cell_type": "markdown",
   "metadata": {},
   "source": [
    "Centroids"
   ]
  },
  {
   "cell_type": "code",
   "execution_count": null,
   "metadata": {},
   "outputs": [],
   "source": [
    "llvm_test_suite_centroids = llvm_test_suite_perf_filtered.mean().round()\n",
    "spec_2017_centroids = spec_2017_perf_filtered.mean().round()\n",
    "bench_gen_centroids = bench_gen_perf_filtered.mean().round()"
   ]
  },
  {
   "cell_type": "markdown",
   "metadata": {},
   "source": [
    "Distances"
   ]
  },
  {
   "cell_type": "code",
   "execution_count": null,
   "metadata": {},
   "outputs": [],
   "source": [
    "llvm_distances_to_llvm_centroid = llvm_test_suite_perf_filtered - llvm_test_suite_centroids\n",
    "llvm_average_distances_to_llvm_centroid = llvm_distances_to_llvm_centroid.abs().mean().round()\n",
    "spec_distances_to_spec_centroid = spec_2017_perf_filtered - spec_2017_centroids\n",
    "spec_average_distances_to_spec_centroid = spec_distances_to_spec_centroid.abs().mean().round()\n",
    "bench_gen_distances_to_llvm_centroid = bench_gen_centroids - llvm_test_suite_centroids\n",
    "bench_gen_distances_to_spec_centroid = bench_gen_centroids - spec_2017_centroids"
   ]
  },
  {
   "cell_type": "markdown",
   "metadata": {},
   "source": [
    "LLVM test suite results"
   ]
  },
  {
   "cell_type": "code",
   "execution_count": null,
   "metadata": {},
   "outputs": [],
   "source": [
    "print(\"LLVM centroids:\")\n",
    "print(llvm_test_suite_centroids)\n",
    "print(\"===========================================================\")\n",
    "print(\"LLVM average distances to LLVM centroid:\")\n",
    "print(llvm_average_distances_to_llvm_centroid)"
   ]
  },
  {
   "cell_type": "markdown",
   "metadata": {},
   "source": [
    "SPEC 2017 results"
   ]
  },
  {
   "cell_type": "code",
   "execution_count": null,
   "metadata": {},
   "outputs": [],
   "source": [
    "print(\"SPEC 2017 centroids:\")\n",
    "print(spec_2017_centroids)\n",
    "print(\"===========================================================\")\n",
    "print(\"SPEC 2017 average distances to SPEC 2017 centroid:\")\n",
    "print(spec_average_distances_to_spec_centroid)"
   ]
  },
  {
   "cell_type": "markdown",
   "metadata": {},
   "source": [
    "BenchGen results"
   ]
  },
  {
   "cell_type": "code",
   "execution_count": null,
   "metadata": {},
   "outputs": [],
   "source": [
    "print(\"BenchGen centroids:\")\n",
    "print(bench_gen_centroids)"
   ]
  },
  {
   "cell_type": "markdown",
   "metadata": {},
   "source": [
    "BenchGen X LLVM test suite results"
   ]
  },
  {
   "cell_type": "code",
   "execution_count": null,
   "metadata": {},
   "outputs": [],
   "source": [
    "print(\"BenchGen distance to LLVM centroid:\")\n",
    "print(bench_gen_distances_to_llvm_centroid)"
   ]
  },
  {
   "cell_type": "markdown",
   "metadata": {},
   "source": [
    "BenchGen X SPEC 2017 results"
   ]
  },
  {
   "cell_type": "code",
   "execution_count": null,
   "metadata": {},
   "outputs": [],
   "source": [
    "print(\"BenchGen distance to SPEC 2017 centroid:\")\n",
    "print(bench_gen_distances_to_spec_centroid)"
   ]
  },
  {
   "cell_type": "markdown",
   "metadata": {},
   "source": [
    "Generate CSV"
   ]
  },
  {
   "cell_type": "code",
   "execution_count": null,
   "metadata": {},
   "outputs": [],
   "source": [
    "row0 = pd.Index(perf_events, name=\"Performance Events\")\n",
    "row1 = pd.Index(llvm_test_suite_centroids, name=\"LLVM centroids\")\n",
    "row2 = pd.Index(spec_2017_centroids, name=\"SPEC 2017 centroids\")\n",
    "row3 = pd.Index(bench_gen_centroids, name=\"BenchGen centroids\")\n",
    "row4 = pd.Index(llvm_average_distances_to_llvm_centroid, name=\"LLVM average distance to LLVM centroids\")\n",
    "row5 = pd.Index(bench_gen_distances_to_llvm_centroid, name=\"BenchGen distance to LLVM centroids\")\n",
    "row6 = pd.Index(spec_average_distances_to_spec_centroid, name=\"SPEC average distance to SPEC 2017 centroids\")\n",
    "row7 = pd.Index(bench_gen_distances_to_spec_centroid, name=\"BenchGen distance to SPEC 2017 centroids\")\n",
    "\n",
    "s0 = pd.Series(row0, name=row0.name)\n",
    "s1 = pd.Series(row1, name=row1.name)\n",
    "s2 = pd.Series(row2, name=row2.name)\n",
    "s3 = pd.Series(row3, name=row3.name)\n",
    "s4 = pd.Series(row4, name=row4.name)\n",
    "s5 = pd.Series(row5, name=row5.name)\n",
    "s6 = pd.Series(row6, name=row6.name)\n",
    "s7 = pd.Series(row7, name=row7.name)\n",
    "\n",
    "df = pd.DataFrame({s0.name : s0, s1.name: s1, s2.name: s2, s3.name: s3, s4.name: s4, s5.name: s5, s6.name: s6, s7.name: s7})\n",
    "\n",
    "df = df.transpose()\n",
    "\n",
    "subprocess.run(f\"mkdir results\", shell=True, stderr=subprocess.DEVNULL)\n",
    "df.to_csv(\"./results/analysisResult.csv\", float_format='%.0f')"
   ]
  }
 ],
 "metadata": {
  "kernelspec": {
   "display_name": "Python 3",
   "language": "python",
   "name": "python3"
  },
  "language_info": {
   "codemirror_mode": {
    "name": "ipython",
    "version": 3
   },
   "file_extension": ".py",
   "mimetype": "text/x-python",
   "name": "python",
   "nbconvert_exporter": "python",
   "pygments_lexer": "ipython3",
   "version": "3.10.12"
  }
 },
 "nbformat": 4,
 "nbformat_minor": 2
}
