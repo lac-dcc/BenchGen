{
 "cells": [
  {
   "cell_type": "markdown",
   "metadata": {},
   "source": [
    "Installations"
   ]
  },
  {
   "cell_type": "code",
   "execution_count": 219,
   "metadata": {},
   "outputs": [
    {
     "name": "stdout",
     "output_type": "stream",
     "text": [
      "Defaulting to user installation because normal site-packages is not writeable\n",
      "Requirement already satisfied: matplotlib in /home/bruno/.local/lib/python3.10/site-packages (3.9.0)\n",
      "Requirement already satisfied: pandas in /home/bruno/.local/lib/python3.10/site-packages (2.2.1)\n",
      "Requirement already satisfied: openpyxl in /home/bruno/.local/lib/python3.10/site-packages (3.1.2)\n",
      "Requirement already satisfied: packaging>=20.0 in /home/bruno/.local/lib/python3.10/site-packages (from matplotlib) (24.0)\n",
      "Requirement already satisfied: numpy>=1.23 in /home/bruno/.local/lib/python3.10/site-packages (from matplotlib) (1.26.4)\n",
      "Requirement already satisfied: python-dateutil>=2.7 in /home/bruno/.local/lib/python3.10/site-packages (from matplotlib) (2.9.0.post0)\n",
      "Requirement already satisfied: pillow>=8 in /usr/lib/python3/dist-packages (from matplotlib) (9.0.1)\n",
      "Requirement already satisfied: cycler>=0.10 in /home/bruno/.local/lib/python3.10/site-packages (from matplotlib) (0.12.1)\n",
      "Requirement already satisfied: fonttools>=4.22.0 in /home/bruno/.local/lib/python3.10/site-packages (from matplotlib) (4.51.0)\n",
      "Requirement already satisfied: pyparsing>=2.3.1 in /usr/lib/python3/dist-packages (from matplotlib) (2.4.7)\n",
      "Requirement already satisfied: contourpy>=1.0.1 in /home/bruno/.local/lib/python3.10/site-packages (from matplotlib) (1.2.1)\n",
      "Requirement already satisfied: kiwisolver>=1.3.1 in /home/bruno/.local/lib/python3.10/site-packages (from matplotlib) (1.4.5)\n",
      "Requirement already satisfied: tzdata>=2022.7 in /home/bruno/.local/lib/python3.10/site-packages (from pandas) (2024.1)\n",
      "Requirement already satisfied: pytz>=2020.1 in /usr/lib/python3/dist-packages (from pandas) (2022.1)\n",
      "Requirement already satisfied: et-xmlfile in /home/bruno/.local/lib/python3.10/site-packages (from openpyxl) (1.1.0)\n",
      "Requirement already satisfied: six>=1.5 in /usr/lib/python3/dist-packages (from python-dateutil>=2.7->matplotlib) (1.16.0)\n",
      "Note: you may need to restart the kernel to use updated packages.\n"
     ]
    }
   ],
   "source": [
    "%pip install matplotlib pandas openpyxl"
   ]
  },
  {
   "cell_type": "markdown",
   "metadata": {},
   "source": [
    "Imports"
   ]
  },
  {
   "cell_type": "code",
   "execution_count": 220,
   "metadata": {},
   "outputs": [],
   "source": [
    "import subprocess\n",
    "import matplotlib.pyplot as plt\n",
    "from matplotlib.backends.backend_pdf import PdfPages\n",
    "import pandas as pd"
   ]
  },
  {
   "cell_type": "markdown",
   "metadata": {},
   "source": [
    "Preparing folder"
   ]
  },
  {
   "cell_type": "code",
   "execution_count": 221,
   "metadata": {},
   "outputs": [
    {
     "data": {
      "text/plain": [
       "CompletedProcess(args='rm ./results/*', returncode=0)"
      ]
     },
     "execution_count": 221,
     "metadata": {},
     "output_type": "execute_result"
    }
   ],
   "source": [
    "examples_folder_path = '../../gen/examples/ex1/'\n",
    "results_folder_path = \"./results/\"\n",
    "main_path = \"../../gen/main\"\n",
    "subprocess.run(f\"mkdir {results_folder_path}\", shell=True, stderr=subprocess.DEVNULL)\n",
    "subprocess.run(f\"rm {results_folder_path}*\", shell=True)"
   ]
  },
  {
   "cell_type": "markdown",
   "metadata": {},
   "source": [
    "Gathering data"
   ]
  },
  {
   "cell_type": "code",
   "execution_count": 222,
   "metadata": {},
   "outputs": [],
   "source": [
    "programs_rand_seed = 0\n",
    "programs_loops_factor = 10\n",
    "\n",
    "def get_program_compilation_time(it,opt):\n",
    "    time_result : subprocess.CompletedProcess = subprocess.run(f\"time clang -o output.o {opt} {results_folder_path}output_{it}.c\",\n",
    "                                                               check=True, shell=True, capture_output=True, text=True)\n",
    "    elapsed_time_str = time_result.stderr.split(' ')[2]\n",
    "    time_str = elapsed_time_str.replace('elapsed', '')\n",
    "    time_str_list = time_str.split(':')\n",
    "    secs = float(time_str_list[-1])\n",
    "    mins = 0\n",
    "    if len(time_str_list) >= 2:\n",
    "        mins = int(time_str_list[-2])\n",
    "    hours = 0\n",
    "    if len(time_str_list) >= 3:\n",
    "        hours = int(time_str_list[0])\n",
    "    return hours*3600 + mins*60 + secs\n",
    "\n",
    "def get_program_running_time():\n",
    "    time_result : subprocess.CompletedProcess = subprocess.run(f\"time ./output.o {programs_rand_seed} {programs_loops_factor}\",\n",
    "                                                               check=True, shell=True, capture_output=True, text=True)\n",
    "    elapsed_time_str = time_result.stderr.split(' ')[2]\n",
    "    time_str = elapsed_time_str.replace('elapsed', '')\n",
    "    time_str_list = time_str.split(':')\n",
    "    secs = float(time_str_list[-1])\n",
    "    mins = 0\n",
    "    if len(time_str_list) >= 2:\n",
    "        mins = int(time_str_list[-2])\n",
    "    hours = 0\n",
    "    if len(time_str_list) >= 3:\n",
    "        hours = int(time_str_list[0])\n",
    "    return hours*3600 + mins*60 + secs\n",
    "\n",
    "def get_program_size() -> int:\n",
    "    size_result : subprocess.CompletedProcess = subprocess.run(f\"size output.o\", shell=True, capture_output=True, text=True)\n",
    "    size_str = size_result.stdout.split('\\n')[1].split('\\t')\n",
    "    return int(size_str[0])\n",
    "\n",
    "def get_program_cpu_cycles() -> int:\n",
    "    subprocess.run(f\"perf stat -o temp.txt -e cycles ./output.o {programs_rand_seed} {programs_loops_factor}\", shell=True, check=True)\n",
    "    with open('temp.txt', 'r') as f:\n",
    "        lines = f.readlines()\n",
    "        lines = [line for line in lines if line.strip() != '']\n",
    "        words = lines[2].strip().split(' ')\n",
    "        cycles = int(words[0].replace('.', ''))\n",
    "    return cycles"
   ]
  },
  {
   "cell_type": "code",
   "execution_count": 223,
   "metadata": {},
   "outputs": [
    {
     "name": "stdout",
     "output_type": "stream",
     "text": [
      "Done!\n",
      "Done!\n",
      "Done!\n",
      "Done!\n",
      "Done!\n",
      "Done!\n",
      "Done!\n"
     ]
    },
    {
     "name": "stderr",
     "output_type": "stream",
     "text": [
      "rm: cannot remove 'temp.txt': No such file or directory\n"
     ]
    },
    {
     "data": {
      "text/plain": [
       "CompletedProcess(args='rm output.o temp.txt', returncode=1)"
      ]
     },
     "execution_count": 223,
     "metadata": {},
     "output_type": "execute_result"
    }
   ],
   "source": [
    "iterations_array = [10]\n",
    "opts_array = ['-O0', '-O1', '-O2', '-O3']\n",
    "iterations = []\n",
    "opts = []\n",
    "sizes = []\n",
    "cpu_cycles = []\n",
    "running_times = []\n",
    "compilation_times = []\n",
    "for it in iterations_array:\n",
    "    subprocess.run(f\"{main_path} {it} {examples_folder_path}production_rule.txt {examples_folder_path}seed_string.txt {results_folder_path}output_{it}.c scalar\", check=True, shell=True)\n",
    "    for opt in reversed(opts_array):\n",
    "        iterations.append(it)\n",
    "        opts.append(opt)\n",
    "        compilation_times.append(get_program_compilation_time(it,opt))\n",
    "        running_times.append(get_program_running_time())\n",
    "        sizes.append(get_program_size())\n",
    "        cpu_cycles.append(get_program_cpu_cycles())\n",
    "subprocess.run(f\"rm output.o temp.txt\", shell=True)"
   ]
  },
  {
   "cell_type": "markdown",
   "metadata": {},
   "source": [
    "Building tables"
   ]
  },
  {
   "cell_type": "code",
   "execution_count": 224,
   "metadata": {},
   "outputs": [],
   "source": [
    "df = pd.DataFrame({'Iterations': iterations, 'Optimizations': opts, 'Size (bytes)': sizes, 'Compilation Time (s)': compilation_times})\n",
    "df.sort_values(by=['Iterations'], inplace=True)\n",
    "\n",
    "subprocess.run(f\"mkdir results\", shell=True, stderr=subprocess.DEVNULL)\n",
    "df.to_csv('results/table.csv', index=False)\n",
    "\n",
    "\n",
    "with pd.ExcelWriter('results/tables.xlsx') as writer:\n",
    "    df.to_excel(writer, sheet_name='Main Table', index=False)"
   ]
  },
  {
   "cell_type": "markdown",
   "metadata": {},
   "source": [
    "Building graphs"
   ]
  },
  {
   "cell_type": "code",
   "execution_count": 225,
   "metadata": {},
   "outputs": [],
   "source": [
    "file_name = 'results/graphs.pdf'\n",
    "subprocess.run(f\"rm {file_name}\", shell=True, stderr=subprocess.DEVNULL)\n",
    "pdf_file = PdfPages(file_name)"
   ]
  },
  {
   "cell_type": "code",
   "execution_count": 226,
   "metadata": {},
   "outputs": [
    {
     "data": {
      "image/png": "[encoded data removed]",
      "text/plain": [
       "<Figure size 640x480 with 1 Axes>"
      ]
     },
     "metadata": {},
     "output_type": "display_data"
    }
   ],
   "source": [
    "average_size_per_iteration = df.groupby('Iterations')['Size (bytes)'].mean()\n",
    "\n",
    "plt.figure()\n",
    "plt.plot(average_size_per_iteration.index, average_size_per_iteration.values, marker='o')\n",
    "plt.title('Average Program Size per Iteration')\n",
    "plt.xlabel('Iterations')\n",
    "plt.ylabel('Average Size (bytes)')\n",
    "plt.grid(True)\n",
    "pdf_file.savefig()\n",
    "plt.show()\n",
    "plt.close()"
   ]
  },
  {
   "cell_type": "code",
   "execution_count": 231,
   "metadata": {},
   "outputs": [],
   "source": [
    "pdf_file.close()"
   ]
  }
 ],
 "metadata": {
  "kernelspec": {
   "display_name": "Python 3",
   "language": "python",
   "name": "python3"
  },
  "language_info": {
   "codemirror_mode": {
    "name": "ipython",
    "version": 3
   },
   "file_extension": ".py",
   "mimetype": "text/x-python",
   "name": "python",
   "nbconvert_exporter": "python",
   "pygments_lexer": "ipython3",
   "version": "3.10.12"
  }
 },
 "nbformat": 4,
 "nbformat_minor": 2
}
