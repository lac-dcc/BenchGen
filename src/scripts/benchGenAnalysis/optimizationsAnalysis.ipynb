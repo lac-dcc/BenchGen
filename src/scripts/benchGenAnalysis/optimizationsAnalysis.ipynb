{
 "cells": [
  {
   "cell_type": "markdown",
   "metadata": {},
   "source": [
    "Installations"
   ]
  },
  {
   "cell_type": "code",
   "execution_count": null,
   "metadata": {},
   "outputs": [],
   "source": [
    "%pip install matplotlib pandas openpyxl"
   ]
  },
  {
   "cell_type": "markdown",
   "metadata": {},
   "source": [
    "Imports"
   ]
  },
  {
   "cell_type": "code",
   "execution_count": null,
   "metadata": {},
   "outputs": [],
   "source": [
    "import subprocess\n",
    "import os\n",
    "import sys\n",
    "import matplotlib.pyplot as plt\n",
    "import pandas as pd"
   ]
  },
  {
   "cell_type": "markdown",
   "metadata": {},
   "source": [
    "Preparing folder"
   ]
  },
  {
   "cell_type": "code",
   "execution_count": null,
   "metadata": {},
   "outputs": [],
   "source": [
    "examples_folder_path = '../examplesGenerator/'\n",
    "results_folder_path = f\"{examples_folder_path}results/\"\n",
    "n_iterations = 7\n",
    "subprocess.run(f\"mkdir {results_folder_path}\", shell=True, stderr=subprocess.DEVNULL)\n",
    "subprocess.run(f\"rm {results_folder_path}*\", shell=True, stderr=subprocess.DEVNULL)\n",
    "subprocess.run(f\"cd {examples_folder_path} && python3 examplesGenerator.py 3 {n_iterations}\", shell=True, check=True)"
   ]
  },
  {
   "cell_type": "markdown",
   "metadata": {},
   "source": [
    "Gathering data"
   ]
  },
  {
   "cell_type": "code",
   "execution_count": null,
   "metadata": {},
   "outputs": [],
   "source": [
    "programs_rand_seed = 0\n",
    "programs_loops_factor = 50\n",
    "\n",
    "def get_program_compilation_time(file,opt):\n",
    "    time_result : subprocess.CompletedProcess = subprocess.run(f\"time clang++ -o output.o {opt} {file}\",\n",
    "                                                               check=True, shell=True, capture_output=True, text=True)\n",
    "    if time_result.returncode != 0:\n",
    "        print(f\"Error in {file}\")\n",
    "        sys.exit(1)\n",
    "    elapsed_time_str = time_result.stderr.split(' ')[2]\n",
    "    time_str = elapsed_time_str.replace('elapsed', '')\n",
    "    time_str_list = time_str.split(':')\n",
    "    secs = float(time_str_list[-1])\n",
    "    mins = 0\n",
    "    if len(time_str_list) >= 2:\n",
    "        mins = int(time_str_list[-2])\n",
    "    hours = 0\n",
    "    if len(time_str_list) >= 3:\n",
    "        hours = int(time_str_list[0])\n",
    "    return hours*3600 + mins*60 + secs\n",
    "\n",
    "def get_program_running_time(file,opt):\n",
    "    time_result : subprocess.CompletedProcess = subprocess.run(f\"time ./output.o {programs_rand_seed} {programs_loops_factor}\",\n",
    "                                                               check=True, shell=True, capture_output=True, text=True)\n",
    "    if time_result.returncode != 0:\n",
    "        print(f\"Error in {file}\")\n",
    "        sys.exit(1)\n",
    "    elapsed_time_str = time_result.stderr.split(' ')[2]\n",
    "    time_str = elapsed_time_str.replace('elapsed', '')\n",
    "    time_str_list = time_str.split(':')\n",
    "    secs = float(time_str_list[-1])\n",
    "    mins = 0\n",
    "    if len(time_str_list) >= 2:\n",
    "        mins = int(time_str_list[-2])\n",
    "    hours = 0\n",
    "    if len(time_str_list) >= 3:\n",
    "        hours = int(time_str_list[0])\n",
    "    return hours*3600 + mins*60 + secs\n",
    "\n",
    "def get_program_size(file) -> int:\n",
    "    size_result : subprocess.CompletedProcess = subprocess.run(f\"size output.o\", shell=True, capture_output=True, text=True)\n",
    "    if size_result.returncode != 0:\n",
    "        print(f\"Error in {file}\")\n",
    "        sys.exit(1)\n",
    "    size_str = size_result.stdout.split('\\n')[1].split('\\t')\n",
    "    return int(size_str[0])\n",
    "\n",
    "def get_program_cpu_cycles() -> int:\n",
    "    subprocess.run(f\"perf stat -o temp.txt -e cycles ./output.o {programs_rand_seed} {programs_loops_factor}\", shell=True, check=True)\n",
    "    with open('temp.txt', 'r') as f:\n",
    "        lines = f.readlines()\n",
    "        lines = [line for line in lines if line.strip() != '']\n",
    "        words = lines[2].strip().split(' ')\n",
    "        cycles = int(words[0].replace('.', ''))\n",
    "    return cycles"
   ]
  },
  {
   "cell_type": "code",
   "execution_count": null,
   "metadata": {},
   "outputs": [],
   "source": [
    "recursive_calls = []\n",
    "optimizations = []\n",
    "sizes = []\n",
    "cpu_cycles = []\n",
    "running_times = []\n",
    "compilation_times = []\n",
    "opts = ['-O0', '-O1', '-O2', '-O3', '-Os', '-Oz', '-Ofast']\n",
    "print(\"0.0%\")\n",
    "for i, file in enumerate(os.listdir(results_folder_path)):\n",
    "    try:\n",
    "        info_array = file.split('_')\n",
    "        production_rule = int(info_array[2])\n",
    "        for opt in opts:\n",
    "            recursive_calls.append(production_rule)\n",
    "            optimizations.append(opt)\n",
    "            compilation_times.append(get_program_compilation_time(results_folder_path+file,opt))\n",
    "            running_times.append(get_program_running_time(results_folder_path+file,opt))\n",
    "            sizes.append(get_program_size(file))\n",
    "            cpu_cycles.append(get_program_cpu_cycles())\n",
    "            p100 = len(os.listdir(results_folder_path)) * len(opts)\n",
    "            p = i * len(opts) + opts.index(opt) + 1\n",
    "            print(f\"{p/p100*100:.2f}%\")\n",
    "    except Exception as e:\n",
    "        print(e)\n",
    "        print(f\"Error in {file} with optimization {opt}. Iteration {i}\")\n",
    "        sys.exit(1)\n",
    "subprocess.run(f\"rm output.o temp.txt\", shell=True)"
   ]
  },
  {
   "cell_type": "markdown",
   "metadata": {},
   "source": [
    "### Building tables"
   ]
  },
  {
   "cell_type": "code",
   "execution_count": null,
   "metadata": {},
   "outputs": [],
   "source": [
    "df = pd.DataFrame({'Recursive Calls': recursive_calls, 'Optimizations': optimizations, 'Size (bytes)': sizes, 'CPU Cycles': cpu_cycles, 'Compilation Time (s)': compilation_times, 'Running Time (s)': running_times})"
   ]
  },
  {
   "cell_type": "markdown",
   "metadata": {},
   "source": [
    "Getting Ratios to -O0"
   ]
  },
  {
   "cell_type": "code",
   "execution_count": null,
   "metadata": {},
   "outputs": [],
   "source": [
    "df['CPU Cycles ratio from O0'] = 1.0\n",
    "df['Compilation time ratio from O0'] = 1.0\n",
    "df['Running time ratio from O0'] = 1.0\n",
    "\n",
    "for call in df['Recursive Calls'].unique():\n",
    "    o0_row = df[(df['Recursive Calls'] == call) & (df['Optimizations'] == '-O0')].iloc[0]\n",
    "    \n",
    "    o0_cpu_cycles = o0_row['CPU Cycles']\n",
    "    o0_compilation_time = o0_row['Compilation Time (s)']\n",
    "    o0_running_time = o0_row['Running Time (s)']\n",
    "    \n",
    "    df.loc[df['Recursive Calls'] == call, 'CPU Cycles ratio from O0'] = (o0_cpu_cycles / df.loc[df['Recursive Calls'] == call, 'CPU Cycles']).round(2)\n",
    "    df.loc[df['Recursive Calls'] == call, 'Compilation time ratio from O0'] = (o0_compilation_time / df.loc[df['Recursive Calls'] == call, 'Compilation Time (s)']).round(2)\n",
    "    df.loc[df['Recursive Calls'] == call, 'Running time ratio from O0'] = (o0_running_time / df.loc[df['Recursive Calls'] == call, 'Running Time (s)']).round(2)"
   ]
  },
  {
   "cell_type": "markdown",
   "metadata": {},
   "source": [
    "Getting Averages"
   ]
  },
  {
   "cell_type": "code",
   "execution_count": null,
   "metadata": {},
   "outputs": [],
   "source": [
    "avg_size = df['Size (bytes)'].mean().round(2)\n",
    "avg_cpu_cycles = df['CPU Cycles'].mean().round(2)\n",
    "avg_compilation_time = df['Compilation Time (s)'].mean().round(2)\n",
    "avg_running_time = df['Running Time (s)'].mean().round(2)\n",
    "avg_cpu_cycles_ratio = df['CPU Cycles ratio from O0'].mean().round(2)\n",
    "avg_compilation_time_ratio = df['Compilation time ratio from O0'].mean().round(2)\n",
    "avg_running_time_ratio = df['Running time ratio from O0'].mean().round(2)\n",
    "\n",
    "average_row = pd.DataFrame({\n",
    "    'Recursive Calls': ['Average'],\n",
    "    'Optimizations': [''],\n",
    "    'Size (bytes)': [avg_size],\n",
    "    'CPU Cycles': [avg_cpu_cycles],\n",
    "    'Compilation Time (s)': [avg_compilation_time],\n",
    "    'Running Time (s)': [avg_running_time],\n",
    "    'CPU Cycles ratio from O0': [avg_cpu_cycles_ratio],\n",
    "    'Compilation time ratio from O0': [avg_compilation_time_ratio],\n",
    "    'Running time ratio from O0': [avg_running_time_ratio]\n",
    "})\n",
    "df = pd.concat([df, average_row], ignore_index=True)"
   ]
  },
  {
   "cell_type": "markdown",
   "metadata": {},
   "source": [
    "Sorting"
   ]
  },
  {
   "cell_type": "code",
   "execution_count": null,
   "metadata": {},
   "outputs": [],
   "source": [
    "\n",
    "df.sort_values(by=['Recursive Calls', 'Optimizations'], inplace=True)"
   ]
  },
  {
   "cell_type": "markdown",
   "metadata": {},
   "source": [
    "Exporting data to files"
   ]
  },
  {
   "cell_type": "code",
   "execution_count": null,
   "metadata": {},
   "outputs": [],
   "source": [
    "subprocess.run(f\"mkdir results\", shell=True, stderr=subprocess.DEVNULL)\n",
    "df.to_csv('results/main_table.csv', index=False)\n",
    "\n",
    "with pd.ExcelWriter('results/tables.xlsx') as writer:\n",
    "    df.to_excel(writer, sheet_name='Main Table', index=False)"
   ]
  }
 ],
 "metadata": {
  "kernelspec": {
   "display_name": "Python 3",
   "language": "python",
   "name": "python3"
  },
  "language_info": {
   "codemirror_mode": {
    "name": "ipython",
    "version": 3
   },
   "file_extension": ".py",
   "mimetype": "text/x-python",
   "name": "python",
   "nbconvert_exporter": "python",
   "pygments_lexer": "ipython3",
   "version": "3.10.12"
  }
 },
 "nbformat": 4,
 "nbformat_minor": 2
}
