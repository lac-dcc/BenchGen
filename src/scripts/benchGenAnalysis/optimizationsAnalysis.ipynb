{
 "cells": [
  {
   "cell_type": "markdown",
   "metadata": {},
   "source": [
    "Installations"
   ]
  },
  {
   "cell_type": "code",
   "execution_count": null,
   "metadata": {},
   "outputs": [],
   "source": [
    "%pip install matplotlib pandas openpyxl"
   ]
  },
  {
   "cell_type": "markdown",
   "metadata": {},
   "source": [
    "Imports"
   ]
  },
  {
   "cell_type": "code",
   "execution_count": null,
   "metadata": {},
   "outputs": [],
   "source": [
    "import subprocess\n",
    "import os\n",
    "import sys\n",
    "import matplotlib.pyplot as plt\n",
    "import pandas as pd"
   ]
  },
  {
   "cell_type": "markdown",
   "metadata": {},
   "source": [
    "Preparing folder"
   ]
  },
  {
   "cell_type": "code",
   "execution_count": null,
   "metadata": {},
   "outputs": [],
   "source": [
    "examples_folder_path = '../examplesGenerator/'\n",
    "results_folder_path = f\"{examples_folder_path}results/\"\n",
    "subprocess.run(f\"mkdir {results_folder_path}\", shell=True, stderr=subprocess.DEVNULL)\n",
    "subprocess.run(f\"rm {results_folder_path}*\", shell=True, stderr=subprocess.DEVNULL)\n",
    "subprocess.run(f\"cd {examples_folder_path} && python3 examplesGenerator.py 3 6\", shell=True, check=True)"
   ]
  },
  {
   "cell_type": "markdown",
   "metadata": {},
   "source": [
    "Gathering data"
   ]
  },
  {
   "cell_type": "code",
   "execution_count": null,
   "metadata": {},
   "outputs": [],
   "source": [
    "def get_program_compilation_time(file,opt):\n",
    "    print(f\"Compiling {file} with {opt}\")\n",
    "    time_result : subprocess.CompletedProcess = subprocess.run(f\"time clang++ -o output.o {opt} {file}\",\n",
    "                                                               check=True, shell=True, capture_output=True, text=True)\n",
    "    if time_result.returncode != 0:\n",
    "        print(f\"Error in {file}\")\n",
    "        sys.exit(1)\n",
    "    elapsed_time_str = time_result.stderr.split(' ')[2]\n",
    "    time_str = elapsed_time_str.replace('elapsed', '')\n",
    "    time_str_list = time_str.split(':')\n",
    "    secs = float(time_str_list[-1])\n",
    "    mins = 0\n",
    "    if len(time_str_list) >= 2:\n",
    "        mins = int(time_str_list[-2])\n",
    "    hours = 0\n",
    "    if len(time_str_list) >= 3:\n",
    "        hours = int(time_str_list[0])\n",
    "    return hours*3600 + mins*60 + secs\n",
    "\n",
    "def get_program_running_time(file,opt):\n",
    "    print(f\"Running {file} with {opt}\")\n",
    "    time_result : subprocess.CompletedProcess = subprocess.run(f\"time ./output.o 0\",\n",
    "                                                               check=True, shell=True, capture_output=True, text=True)\n",
    "    if time_result.returncode != 0:\n",
    "        print(f\"Error in {file}\")\n",
    "        sys.exit(1)\n",
    "    elapsed_time_str = time_result.stderr.split(' ')[2]\n",
    "    time_str = elapsed_time_str.replace('elapsed', '')\n",
    "    time_str_list = time_str.split(':')\n",
    "    secs = float(time_str_list[-1])\n",
    "    mins = 0\n",
    "    if len(time_str_list) >= 2:\n",
    "        mins = int(time_str_list[-2])\n",
    "    hours = 0\n",
    "    if len(time_str_list) >= 3:\n",
    "        hours = int(time_str_list[0])\n",
    "    return hours*3600 + mins*60 + secs\n",
    "\n",
    "def get_program_size(file) -> int:\n",
    "    size_result : subprocess.CompletedProcess = subprocess.run(f\"size output.o\", shell=True, capture_output=True, text=True)\n",
    "    if size_result.returncode != 0:\n",
    "        print(f\"Error in {file}\")\n",
    "        sys.exit(1)\n",
    "    size_str = size_result.stdout.split('\\n')[1].split('\\t')\n",
    "    return int(size_str[0])\n",
    "\n",
    "def get_program_cpu_cycles() -> int:\n",
    "    subprocess.run(f\"perf stat -o temp.txt -e cycles ./output.o 0\", shell=True, check=True)\n",
    "    with open('temp.txt', 'r') as f:\n",
    "        lines = f.readlines()\n",
    "        lines = [line for line in lines if line.strip() != '']\n",
    "        words = lines[2].strip().split(' ')\n",
    "        cycles = int(words[0].replace('.', ''))\n",
    "    return cycles"
   ]
  },
  {
   "cell_type": "code",
   "execution_count": null,
   "metadata": {},
   "outputs": [],
   "source": [
    "recursive_calls = []\n",
    "optimizations = []\n",
    "sizes = []\n",
    "cpu_cycles = []\n",
    "running_times = []\n",
    "compilation_times = []\n",
    "opts = ['-O0', '-O1', '-O2', '-O3', '-Os', '-Oz', '-Ofast']\n",
    "for file in os.listdir(results_folder_path):\n",
    "    info_array = file.split('_')\n",
    "    production_rule = int(info_array[2])\n",
    "    for opt in opts:\n",
    "        recursive_calls.append(production_rule)\n",
    "        optimizations.append(opt)\n",
    "        compilation_times.append(get_program_compilation_time(results_folder_path+file,opt))\n",
    "        running_times.append(get_program_running_time(results_folder_path+file,opt))\n",
    "        sizes.append(get_program_size(file))\n",
    "        cpu_cycles.append(get_program_cpu_cycles())\n",
    "subprocess.run(f\"rm output.o temp.txt\", shell=True)"
   ]
  },
  {
   "cell_type": "markdown",
   "metadata": {},
   "source": [
    "Building tables"
   ]
  },
  {
   "cell_type": "code",
   "execution_count": null,
   "metadata": {},
   "outputs": [],
   "source": [
    "\n",
    "df = pd.DataFrame({'Recursive Calls': recursive_calls, 'Optimizations': optimizations, 'Size': sizes, 'CPU Cycles': cpu_cycles, 'Compilation Time': compilation_times, 'Running Time': running_times})\n",
    "df.sort_values(by=['Recursive Calls', 'Optimizations'], inplace=True)\n",
    "\n",
    "sizes_table = df.pivot(index='Optimizations', columns='Recursive Calls', values='Size')\n",
    "sizes_table.reset_index(inplace=True)\n",
    "sizes_table.columns.name = None\n",
    "\n",
    "cpu_cycles_table = df.pivot(index='Optimizations', columns='Recursive Calls', values='CPU Cycles')\n",
    "cpu_cycles_table.reset_index(inplace=True)\n",
    "cpu_cycles_table.columns.name = None\n",
    "\n",
    "compilation_time_table = df.pivot(index='Optimizations', columns='Recursive Calls', values='Compilation Time')\n",
    "compilation_time_table.reset_index(inplace=True)\n",
    "compilation_time_table.columns.name = None\n",
    "\n",
    "running_time_table = df.pivot(index='Optimizations', columns='Recursive Calls', values='Running Time')\n",
    "running_time_table.reset_index(inplace=True)\n",
    "running_time_table.columns.name = None\n",
    "\n",
    "subprocess.run(f\"mkdir results\", shell=True, stderr=subprocess.DEVNULL)\n",
    "df.to_csv('results/main_table.csv', index=False)\n",
    "sizes_table.to_csv('results/sizes_table.csv', index=False)\n",
    "cpu_cycles_table.to_csv('results/cpu_cycles_table.csv', index=False)\n",
    "compilation_time_table.to_csv('results/compilation_time_table.csv', index=False)\n",
    "running_time_table.to_csv('results/running_time_table.csv', index=False)\n",
    "\n",
    "with pd.ExcelWriter('results/tables.xlsx') as writer:\n",
    "    df.to_excel(writer, sheet_name='Main Table', index=False)\n",
    "    sizes_table.to_excel(writer, sheet_name='Sizes Table', index=False)\n",
    "    cpu_cycles_table.to_excel(writer, sheet_name='CPU Cycles Table', index=False)\n",
    "    compilation_time_table.to_excel(writer, sheet_name='Compilation Time Table', index=False)\n",
    "    running_time_table.to_excel(writer, sheet_name='Running Time Table', index=False)"
   ]
  }
 ],
 "metadata": {
  "kernelspec": {
   "display_name": "Python 3",
   "language": "python",
   "name": "python3"
  },
  "language_info": {
   "codemirror_mode": {
    "name": "ipython",
    "version": 3
   },
   "file_extension": ".py",
   "mimetype": "text/x-python",
   "name": "python",
   "nbconvert_exporter": "python",
   "pygments_lexer": "ipython3",
   "version": "3.10.12"
  }
 },
 "nbformat": 4,
 "nbformat_minor": 2
}
