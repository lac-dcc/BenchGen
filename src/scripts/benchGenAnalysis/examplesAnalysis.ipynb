{
    "cells": [
        {
            "cell_type": "markdown",
            "metadata": {},
            "source": [
                "Installations"
            ]
        },
        {
            "cell_type": "code",
            "execution_count": null,
            "metadata": {},
            "outputs": [],
            "source": [
                "%pip install matplotlib pandas openpyxl"
            ]
        },
        {
            "cell_type": "markdown",
            "metadata": {},
            "source": [
                "Imports"
            ]
        },
        {
            "cell_type": "code",
            "execution_count": null,
            "metadata": {},
            "outputs": [],
            "source": [
                "import subprocess\n",
                "import os\n",
                "import sys\n",
                "import matplotlib.pyplot as plt\n",
                "from matplotlib.backends.backend_pdf import PdfPages\n",
                "import pandas as pd"
            ]
        },
        {
            "cell_type": "markdown",
            "metadata": {},
            "source": [
                "Preparing folder"
            ]
        },
        {
            "cell_type": "code",
            "execution_count": null,
            "metadata": {},
            "outputs": [],
            "source": [
                "examples_folder_path = '../examplesGenerator/'\n",
                "results_folder_path = f\"{examples_folder_path}results/\"\n",
                "subprocess.run(f\"mkdir {results_folder_path}\", shell=True, stderr=subprocess.DEVNULL)\n",
                "subprocess.run(f\"rm {results_folder_path}*\", shell=True)\n",
                "subprocess.run(f\"cd {examples_folder_path} && python3 examplesGenerator.py 2\", shell=True, check=True)"
            ]
        },
        {
            "cell_type": "markdown",
            "metadata": {},
            "source": [
                "Gathering data"
            ]
        },
        {
            "cell_type": "code",
            "execution_count": null,
            "metadata": {},
            "outputs": [],
            "source": [
                "def get_program_size(file) -> int:\n",
                "    size_result : subprocess.CompletedProcess = subprocess.run(f\"size output.o\", shell=True, capture_output=True, text=True)\n",
                "    if size_result.returncode != 0:\n",
                "        print(f\"Error in {file}\")\n",
                "        sys.exit(1)\n",
                "    size_str = size_result.stdout.split('\\n')[1].split('\\t')\n",
                "    return int(size_str[0])\n",
                "\n",
                "def get_program_cpu_cycles() -> int:\n",
                "    subprocess.run(f\"perf stat -o temp.txt -e cycles ./output.o\", shell=True, check=True)\n",
                "    with open('temp.txt', 'r') as f:\n",
                "        lines = f.readlines()\n",
                "        lines = [line for line in lines if line.strip() != '']\n",
                "        words = lines[2].strip().split(' ')\n",
                "        cycles = int(words[0].replace('.', ''))\n",
                "    return cycles"
            ]
        },
        {
            "cell_type": "code",
            "execution_count": null,
            "metadata": {},
            "outputs": [],
            "source": [
                "recursive_calls = []\n",
                "iterations = []\n",
                "sizes = []\n",
                "cpu_cycles = []\n",
                "for file in os.listdir(results_folder_path):\n",
                "    info_array = file.split('_')\n",
                "    it = int(info_array[1])\n",
                "    production_rule = int(info_array[2])\n",
                "    recursive_calls.append(production_rule)\n",
                "    iterations.append(it)\n",
                "    subprocess.run(f\"clang -o output.o {results_folder_path+file}\", shell=True)\n",
                "    sizes.append(get_program_size(file))\n",
                "    cpu_cycles.append(get_program_cpu_cycles())\n",
                "subprocess.run(f\"rm output.o temp.txt\", shell=True)"
            ]
        },
        {
            "cell_type": "markdown",
            "metadata": {},
            "source": [
                "Building tables"
            ]
        },
        {
            "cell_type": "code",
            "execution_count": null,
            "metadata": {},
            "outputs": [],
            "source": [
                "\n",
                "df = pd.DataFrame({'Recursive Calls': recursive_calls, 'Iterations': iterations, 'Size (bytes)': sizes, 'CPU Cycles': cpu_cycles})\n",
                "df.sort_values(by=['Recursive Calls', 'Iterations'], inplace=True)\n",
                "\n",
                "sizes_table = df.pivot(index='Iterations', columns='Recursive Calls', values='Size (bytes)')\n",
                "sizes_table.reset_index(inplace=True)\n",
                "sizes_table.columns.name = None\n",
                "\n",
                "cpu_cycles_table = df.pivot(index='Iterations', columns='Recursive Calls', values='CPU Cycles')\n",
                "cpu_cycles_table.reset_index(inplace=True)\n",
                "cpu_cycles_table.columns.name = None\n",
                "\n",
                "subprocess.run(f\"mkdir results\", shell=True, stderr=subprocess.DEVNULL)\n",
                "df.to_csv('results/main_table.csv', index=False)\n",
                "sizes_table.to_csv('results/sizes_table.csv', index=False)\n",
                "cpu_cycles_table.to_csv('results/cpu_cycles_table.csv', index=False)\n",
                "\n",
                "\n",
                "with pd.ExcelWriter('results/tables.xlsx') as writer:\n",
                "    df.to_excel(writer, sheet_name='Main Table', index=False)\n",
                "    sizes_table.to_excel(writer, sheet_name='Sizes Table', index=False)\n",
                "    cpu_cycles_table.to_excel(writer, sheet_name='CPU Cycles Table', index=False)"
            ]
        },
        {
            "cell_type": "markdown",
            "metadata": {},
            "source": [
                "Building graphs"
            ]
        },
        {
            "cell_type": "code",
            "execution_count": null,
            "metadata": {},
            "outputs": [],
            "source": [
                "file_name = 'results/graphs.pdf'\n",
                "subprocess.run(f\"rm {file_name}\", shell=True)\n",
                "pdf_file = PdfPages(file_name)"
            ]
        },
        {
            "cell_type": "code",
            "execution_count": null,
            "metadata": {},
            "outputs": [],
            "source": [
                "size_per_iteration = df.groupby('Iterations')['Size (bytes)'].mean().reset_index()\n",
                "plt.figure()\n",
                "plt.plot(size_per_iteration['Iterations'], size_per_iteration['Size (bytes)'], marker='o')\n",
                "plt.title('Average Program Size per Iterations')\n",
                "plt.xlabel('Iterations')\n",
                "plt.ylabel('Average Size in bytes')\n",
                "plt.grid(True)\n",
                "pdf_file.savefig()\n",
                "plt.show()\n",
                "plt.close()"
            ]
        },
        {
            "cell_type": "code",
            "execution_count": null,
            "metadata": {},
            "outputs": [],
            "source": [
                "avg_size_per_recursive_calls = df.groupby('Recursive Calls')['Size (bytes)'].mean().reset_index()\n",
                "plt.figure()\n",
                "plt.plot(avg_size_per_recursive_calls['Recursive Calls'], avg_size_per_recursive_calls['Size (bytes)'], marker='o')\n",
                "plt.title('Average Program Size per Recursive Calls')\n",
                "plt.xlabel('Recursive Calls')\n",
                "plt.ylabel('Average Size in bytes')\n",
                "plt.grid(True)\n",
                "pdf_file.savefig()\n",
                "plt.show()\n",
                "plt.close()"
            ]
        },
        {
            "cell_type": "code",
            "execution_count": null,
            "metadata": {},
            "outputs": [],
            "source": [
                "colors = ['b', 'g', 'r', 'c', 'm', 'y', 'k', 'orange']\n",
                "markers = ['o', 's', 'D', '^', 'v', 'p', '*', 'X', \".\", \"1\", \"2\"]\n",
                "\n",
                "plt.figure()\n",
                "for i, program in enumerate(df['Recursive Calls'].unique()):\n",
                "    subset = df[df['Recursive Calls'] == program]\n",
                "    plt.plot(subset['Iterations'], subset['Size (bytes)'],\n",
                "             marker=markers[i%len(markers)], color=colors[i%len(colors)], label=f'Production Rule {program}')\n",
                "\n",
                "plt.title('Program Size per Iteration per Program')\n",
                "plt.xlabel('Iterations')\n",
                "plt.ylabel('Size in bytes')\n",
                "plt.grid(True)\n",
                "plt.legend()\n",
                "pdf_file.savefig()\n",
                "plt.show()\n",
                "plt.close()"
            ]
        },
        {
            "cell_type": "code",
            "execution_count": null,
            "metadata": {},
            "outputs": [],
            "source": [
                "size_per_iteration = df.groupby('Iterations')['CPU Cycles'].mean().reset_index()\n",
                "plt.figure()\n",
                "plt.plot(size_per_iteration['Iterations'], size_per_iteration['CPU Cycles'], marker='o')\n",
                "plt.title('Average Program CPU Cycles per Iterations')\n",
                "plt.xlabel('Iterations')\n",
                "plt.ylabel('Average CPU Cycles')\n",
                "plt.grid(True)\n",
                "pdf_file.savefig()\n",
                "plt.show()\n",
                "plt.close()"
            ]
        },
        {
            "cell_type": "code",
            "execution_count": null,
            "metadata": {},
            "outputs": [],
            "source": [
                "avg_size_per_recursive_calls = df.groupby('Recursive Calls')['CPU Cycles'].mean().reset_index()\n",
                "plt.figure()\n",
                "plt.plot(avg_size_per_recursive_calls['Recursive Calls'], avg_size_per_recursive_calls['CPU Cycles'], marker='o')\n",
                "plt.title('Average Program CPU Cycles per Recursive Calls')\n",
                "plt.xlabel('Recursive Calls')\n",
                "plt.ylabel('Average CPU Cycles')\n",
                "plt.grid(True)\n",
                "pdf_file.savefig()\n",
                "plt.show()\n",
                "plt.close()"
            ]
        },
        {
            "cell_type": "code",
            "execution_count": null,
            "metadata": {},
            "outputs": [],
            "source": [
                "plt.figure()\n",
                "for i, program in enumerate(df['Recursive Calls'].unique()):\n",
                "    subset = df[df['Recursive Calls'] == program]\n",
                "    plt.plot(subset['Iterations'], subset['CPU Cycles'],\n",
                "                marker=markers[i%len(markers)], color=colors[i%len(colors)], label=f'Production Rule {program}')\n",
                "\n",
                "plt.title('Program CPU Cycles per Iteration per Program')\n",
                "plt.xlabel('Iterations')\n",
                "plt.ylabel('CPU Cycles')\n",
                "plt.grid(True)\n",
                "plt.legend()\n",
                "pdf_file.savefig()\n",
                "plt.show()\n",
                "plt.close()"
            ]
        },
        {
            "cell_type": "code",
            "execution_count": null,
            "metadata": {},
            "outputs": [],
            "source": [
                "pdf_file.close()"
            ]
        }
    ],
    "metadata": {
        "kernelspec": {
            "display_name": "Python 3",
            "language": "python",
            "name": "python3"
        },
        "language_info": {
            "codemirror_mode": {
                "name": "ipython",
                "version": 3
            },
            "file_extension": ".py",
            "mimetype": "text/x-python",
            "name": "python",
            "nbconvert_exporter": "python",
            "pygments_lexer": "ipython3",
            "version": "3.10.12"
        }
    },
    "nbformat": 4,
    "nbformat_minor": 2
}
